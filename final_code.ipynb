{
 "cells": [
  {
   "cell_type": "code",
   "execution_count": null,
   "metadata": {},
   "outputs": [],
   "source": [
    "import pandas as pd\n",
    "import matplotlib.pyplot as plt\n",
    "import seaborn as sns\n",
    "\n",
    "# List of files and corresponding city names\n",
    "files = ['city1_weather.csv', 'city2_weather.csv', 'city3_weather.csv', 'city4_weather.csv', 'city5_weather.csv']\n",
    "cities = ['City1', 'City2', 'City3', 'City4', 'City5']\n",
    "\n",
    "# Combine data from all cities into one DataFrame\n",
    "dataframes = []\n",
    "for file, city in zip(files, cities):\n",
    "    df = pd.read_csv(file)\n",
    "    df['city'] = city  # Add a city column\n",
    "    dataframes.append(df)\n",
    "\n",
    "# Concatenate all DataFrames\n",
    "combined_data = pd.concat(dataframes, ignore_index=True)\n",
    "\n",
    "# Convert 'date' column to datetime\n",
    "combined_data['date'] = pd.to_datetime(combined_data['date'])\n",
    "\n",
    "# Handle missing data (example: fill missing values with 0 or drop rows)\n",
    "combined_data.fillna(0, inplace=True)\n"
   ]
  },
  {
   "cell_type": "code",
   "execution_count": null,
   "metadata": {},
   "outputs": [],
   "source": []
  },
  {
   "cell_type": "code",
   "execution_count": null,
   "metadata": {},
   "outputs": [],
   "source": []
  },
  {
   "cell_type": "code",
   "execution_count": null,
   "metadata": {},
   "outputs": [],
   "source": []
  },
  {
   "cell_type": "code",
   "execution_count": null,
   "metadata": {},
   "outputs": [],
   "source": []
  },
  {
   "cell_type": "code",
   "execution_count": null,
   "metadata": {},
   "outputs": [],
   "source": []
  }
 ],
 "metadata": {
  "kernelspec": {
   "display_name": "base",
   "language": "python",
   "name": "python3"
  },
  "language_info": {
   "codemirror_mode": {
    "name": "ipython",
    "version": 3
   },
   "file_extension": ".py",
   "mimetype": "text/x-python",
   "name": "python",
   "nbconvert_exporter": "python",
   "pygments_lexer": "ipython3",
   "version": "3.11.7"
  }
 },
 "nbformat": 4,
 "nbformat_minor": 2
}
